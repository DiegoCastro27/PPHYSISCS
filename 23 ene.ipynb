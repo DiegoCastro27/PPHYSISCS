{
 "cells": [
  {
   "cell_type": "code",
   "execution_count": 15,
   "id": "8d7bf4e5-0dcb-43e8-8e6a-9ea4a137de6d",
   "metadata": {},
   "outputs": [
    {
     "name": "stdout",
     "output_type": "stream",
     "text": [
      "Estimated Pi: 3.036\n"
     ]
    }
   ],
   "source": [
    "import random\n",
    "\n",
    "num_samples = 1000 #Numero de intentos\n",
    "inside_circle = 0\n",
    "\n",
    "for i in range(num_samples):\n",
    "    x = random.uniform(-1,1)\n",
    "    y = random.uniform(-1,1)#parametros del circulo\n",
    "    if x**2 + y**2 <= 1: #Si la suma de x y y al cuadrado es menor o igual a uno\n",
    "        inside_circle += 1 \n",
    "\n",
    "pi_estimate = 4 * inside_circle / num_samples #formula para sacar pi \n",
    "print(f\"Estimated Pi: {pi_estimate}\")"
   ]
  },
  {
   "cell_type": "code",
   "execution_count": null,
   "id": "3015bdbe-6f06-44bd-8298-06133c1f361d",
   "metadata": {},
   "outputs": [],
   "source": []
  }
 ],
 "metadata": {
  "kernelspec": {
   "display_name": "Python [conda env:base] *",
   "language": "python",
   "name": "conda-base-py"
  },
  "language_info": {
   "codemirror_mode": {
    "name": "ipython",
    "version": 3
   },
   "file_extension": ".py",
   "mimetype": "text/x-python",
   "name": "python",
   "nbconvert_exporter": "python",
   "pygments_lexer": "ipython3",
   "version": "3.12.7"
  }
 },
 "nbformat": 4,
 "nbformat_minor": 5
}
